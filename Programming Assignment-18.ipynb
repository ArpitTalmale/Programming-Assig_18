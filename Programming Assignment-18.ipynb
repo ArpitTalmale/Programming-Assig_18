{
 "cells": [
  {
   "cell_type": "markdown",
   "id": "08c1188b",
   "metadata": {},
   "source": [
    "###  1.Create a function that takes a list of non-negative integers and strings and return a new list without the strings ?\n",
    "Examples:\n",
    "\n",
    "<1>filter_list([1, 2, \"a\", \"b\"]) ➞ [1, 2]\n",
    "<2>filter_list([1, \"a\", \"b\", 0, 15]) ➞ [1, 0, 15]\n",
    "<3>filter_list([1, 2, \"aasf\", \"1\", \"123\", 123]) ➞ [1, 2, 123]"
   ]
  },
  {
   "cell_type": "code",
   "execution_count": 3,
   "id": "db2d348c",
   "metadata": {},
   "outputs": [
    {
     "name": "stdout",
     "output_type": "stream",
     "text": [
      "[1, 2]\n",
      "[1, 0, 15]\n",
      "[1, 2, 123]\n"
     ]
    }
   ],
   "source": [
    "#Solution:-\n",
    "\n",
    "def non_neg(list):\n",
    "    output = []\n",
    "    for num in list:\n",
    "        if type(num) == int and  num >=0:\n",
    "            output.append(num)\n",
    "    return(output)\n",
    "print(non_neg([1, 2, \"a\", \"b\"]))\n",
    "print(non_neg([1, \"a\", \"b\", 0, 15]))\n",
    "print(non_neg([1, 2, \"aasf\", \"1\", \"123\", 123]))    "
   ]
  },
  {
   "cell_type": "markdown",
   "id": "cedd5fd7",
   "metadata": {},
   "source": [
    "### 2. The \"Reverser\" takes a string as input and returns that string in reverse order, with the opposite case ?\n",
    "Examples:\n",
    "<1>reverse(\"Hello World\") ➞ \"DLROw OLLEh\"\n",
    "<2>reverse(\"ReVeRsE\") ➞ \"eSrEvEr\"\n",
    "<3>reverse(\"Radar\") ➞ \"RADAr\" "
   ]
  },
  {
   "cell_type": "code",
   "execution_count": 6,
   "id": "3284ae44",
   "metadata": {},
   "outputs": [
    {
     "name": "stdout",
     "output_type": "stream",
     "text": [
      "Enter a string:-Hello World\n",
      "The reverse of Hello World is DLROw OLLEh\n",
      "Enter a string:-ReVeRsE\n",
      "The reverse of ReVeRsE is eSrEvEr\n",
      "Enter a string:-Radar\n",
      "The reverse of Radar is RADAr\n"
     ]
    }
   ],
   "source": [
    "#Solution:-\n",
    "\n",
    "def reverser():\n",
    "    input_str = input(\"Enter a string:-\")\n",
    "    output = (input_str[::-1]).swapcase()\n",
    "    print(f'The reverse of {input_str} is {output}')\n",
    "for i in range(3):\n",
    "    reverser()"
   ]
  },
  {
   "cell_type": "markdown",
   "id": "6d8c944a",
   "metadata": {},
   "source": [
    "### 3.You can assign variables from lists like this:\n",
    "lst = [1, 2, 3, 4, 5, 6] first = lst[0] middle = lst[1:-1] last = lst[-1] print(first) ➞ outputs 1 print(middle) ➞ outputs [2, 3, 4, 5] print(last) ➞ outputs 6\n",
    "With Python 3, you can assign variables from lists in a much more succinct way. Create variables first, middle and last from the given list using destructuring assignment\n",
    "(check the Resources tab for some examples), where:\n",
    "first ➞ 1 middle ➞ [2, 3, 4, 5] last ➞ 6\n",
    "Your task is to unpack the list writeyourcodehere into three variables, being first, middle, and last, with middle being everything in between the first and last element. Then print all three variables."
   ]
  },
  {
   "cell_type": "code",
   "execution_count": 7,
   "id": "d432ac74",
   "metadata": {},
   "outputs": [
    {
     "name": "stdout",
     "output_type": "stream",
     "text": [
      "first ➞ 1\n",
      "middle ➞ [2, 3, 4, 5]\n",
      "last ➞ 6\n"
     ]
    }
   ],
   "source": [
    "#Solution:-\n",
    "\n",
    "first, *middle, last = [1,2,3,4,5,6]\n",
    "print(f'first ➞ {first}')\n",
    "print(f'middle ➞ {middle}')\n",
    "print(f'last ➞ {last}')"
   ]
  },
  {
   "cell_type": "markdown",
   "id": "9ad5f0de",
   "metadata": {},
   "source": [
    "### 4.Write a function that calculates the factorial of a number recursively.\n",
    "Examples:\n",
    "factorial(5) ➞ 120\n",
    "factorial(3) ➞ 6\n",
    "factorial(1) ➞ 1\n",
    "factorial(0) ➞ 1 "
   ]
  },
  {
   "cell_type": "code",
   "execution_count": 9,
   "id": "1a6b64f6",
   "metadata": {},
   "outputs": [
    {
     "name": "stdout",
     "output_type": "stream",
     "text": [
      "factorial(5) --> 120\n",
      "factorial(3))  --> 6\n",
      "factorial(1))  --> 1\n",
      "factorial(0))  --> 1\n"
     ]
    }
   ],
   "source": [
    "#Solution:\n",
    "\n",
    "def factorial(n):\n",
    "    if n <= 1:\n",
    "        return 1\n",
    "    else:\n",
    "        return(n * factorial(n-1))\n",
    "print(f'factorial(5) --> {factorial(5)}')\n",
    "print(f'factorial(3))  --> {factorial(3)}')\n",
    "print(f'factorial(1))  --> {factorial(1)}')\n",
    "print(f'factorial(0))  --> {factorial(0)}')"
   ]
  },
  {
   "cell_type": "markdown",
   "id": "84613b06",
   "metadata": {},
   "source": [
    "### 5.Write a function that moves all elements of one type to the end of the list.\n",
    "Examples:\n",
    "move_to_end([1, 3, 2, 4, 4, 1], 1) ➞ [3, 2, 4, 4, 1, 1]\n",
    "### Move all the 1s to the end of the array.\n",
    "move_to_end([7, 8, 9, 1, 2, 3, 4], 9) ➞ [7, 8, 1, 2, 3, 4, 9]\n",
    "move_to_end([\"a\", \"a\", \"a\", \"b\"], \"a\") ➞ [\"b\", \"a\", \"a\", \"a\"] "
   ]
  },
  {
   "cell_type": "code",
   "execution_count": 11,
   "id": "5705d9d3",
   "metadata": {},
   "outputs": [
    {
     "name": "stdout",
     "output_type": "stream",
     "text": [
      "move_to_end([1, 3, 2, 4, 4, 1], 1) ➞ [3, 2, 4, 4, 1, 1]\n",
      "move_to_end([7, 8, 9, 1, 2, 3, 4], 9) ➞ [7, 8, 1, 2, 3, 4, 9]\n",
      "move_to_end([\"a\", \"a\", \"a\", \"b\"], \"a\") ➞ ['b', 'a', 'a', 'a']\n"
     ]
    }
   ],
   "source": [
    "#Solution:-\n",
    "\n",
    "def move_to_end(list,num):\n",
    "    first_input = []\n",
    "    second_input = []\n",
    "    for i in list:\n",
    "        if  i== num:\n",
    "            second_input.append(i)\n",
    "        else:\n",
    "            first_input.append(i)\n",
    "    first_input.extend(second_input)\n",
    "    return first_input\n",
    "    \n",
    "print(f'move_to_end([1, 3, 2, 4, 4, 1], 1) ➞ {move_to_end([1, 3, 2, 4, 4, 1], 1)}')\n",
    "print(f'move_to_end([7, 8, 9, 1, 2, 3, 4], 9) ➞ {move_to_end([7, 8, 9, 1, 2, 3, 4], 9)}')\n",
    "print(f'move_to_end([\"a\", \"a\", \"a\", \"b\"], \"a\") ➞ {move_to_end([\"a\", \"a\", \"a\", \"b\"], \"a\")}')\n"
   ]
  }
 ],
 "metadata": {
  "kernelspec": {
   "display_name": "Python 3 (ipykernel)",
   "language": "python",
   "name": "python3"
  },
  "language_info": {
   "codemirror_mode": {
    "name": "ipython",
    "version": 3
   },
   "file_extension": ".py",
   "mimetype": "text/x-python",
   "name": "python",
   "nbconvert_exporter": "python",
   "pygments_lexer": "ipython3",
   "version": "3.10.9"
  }
 },
 "nbformat": 4,
 "nbformat_minor": 5
}
